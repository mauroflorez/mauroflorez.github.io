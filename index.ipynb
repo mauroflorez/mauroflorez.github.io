{
  "cells": [
    {
      "cell_type": "raw",
      "metadata": {},
      "source": [
        "---\n",
        "title: \"Mauro Florez\"\n",
        "image: media/headshot.png\n",
        "toc: false\n",
        "about:\n",
        "  template: trestles\n",
        "  image-shape: round\n",
        "  image-width: 20em\n",
        "  links:\n",
        "    - icon: linkedin\n",
        "      text: LinkedIn\n",
        "      href: https://www.linkedin.com/in/mauroefr/\n",
        "    - icon: github\n",
        "      text: GitHub\n",
        "      href: https://github.com/mauroflorez\n",
        "    - text: Email\n",
        "      href: mailto:mf53@rice.edu\n",
        "---"
      ],
      "id": "e8e889a4"
    },
    {
      "cell_type": "markdown",
      "metadata": {},
      "source": [
        "```` css\n",
        "```{css} \n",
        "#| echo: false \n",
        "p { \n",
        "  text-align: justify\n",
        "}\n",
        "```\n",
        "````\n",
        "\n",
        "## Bio\n",
        "\n",
        "Hi! 👋\n",
        "\n",
        "I am a PhD candidate in Statistics at Rice University, currently working on developing Bayesian models for multivariate data under the direction of Dr. [Marina Vannucci](https://marina.blogs.rice.edu/).\n",
        "\n",
        "I completed my undergraduate studies in my hometown, Bogotá, Colombia, earning a BS in *Statistics* from the Universidad Nacional de Colombia, where I graduated with distinction (1st class). Additionally, I hold a BS in *Mathematics* from Universidad Sergio Arboleda.\n",
        "\n",
        "I have experience as Data Analyst, in teaching \\[List of my courses here\\]. I have been TA and Reviewer\n",
        "\n",
        "## Research Interest\n",
        "\n",
        "My interests are\n",
        "\n",
        "-   Applied Statistics\n",
        "\n",
        "-   Bayesian Statistics\n",
        "\n",
        "-   Machine Learning\n",
        "\n",
        "## Selected Experience\n",
        "\n",
        "Data Analyst\n",
        "\n",
        "Statistical Specialist\n",
        "\n",
        "Lecturer"
      ],
      "id": "576cd3b7"
    }
  ],
  "metadata": {
    "kernelspec": {
      "name": "python3",
      "language": "python",
      "display_name": "Python 3 (ipykernel)"
    }
  },
  "nbformat": 4,
  "nbformat_minor": 5
}